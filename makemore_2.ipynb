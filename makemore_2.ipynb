{
 "cells": [
  {
   "cell_type": "code",
   "execution_count": null,
   "metadata": {},
   "outputs": [],
   "source": [
    "words=open('names.txt','r').read().splitlines()\n",
    "block_size=3\n",
    "X,Y=[],[]\n",
    "for w in words[:5]:\n",
    "    "
   ]
  }
 ],
 "metadata": {
  "language_info": {
   "name": "python"
  }
 },
 "nbformat": 4,
 "nbformat_minor": 2
}
